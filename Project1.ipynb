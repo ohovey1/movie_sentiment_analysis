{
 "cells": [
  {
   "cell_type": "markdown",
   "metadata": {},
   "source": [
    "# Project 1: Sentiment Analysis on Movie Reviews\n",
    "\n",
    "This project is an individual project. In this project, you are expected to solve the classification problem on movie reviews. Movie reviews have two different sentiments (positive or negative), please train machine learning or deep learning models to classify movie reviews into correct categories (1 for positive 1 and 0 for negative)."
   ]
  },
  {
   "cell_type": "markdown",
   "metadata": {},
   "source": [
    "**NOTE:**\n",
    "* Please solve the problems in this notebook using the dataset `IBDM Dataset.csv`.\n",
    "* Important Dates: \n",
    "    * Project Start: Feb 19, Monday\n",
    "    * Project Due: March 7, Thursday midnight\n",
    "* Submission should include a pdf report (at least 4 pages) and code.\n",
    "* There are always last minute issues submitting the project. DO NOT WAIT UNTIL THE LAST MINUTE!\n",
    "\n",
    "**HINT:**\n",
    "* Here are some related tutorials that would be helpful:\n",
    "    * https://www.kaggle.com/competitions/sentiment-analysis-on-movie-reviews/code\n",
    "    * https://scikit-learn.org/stable/tutorial/text_analytics/working_with_text_data.html \n",
    "\n"
   ]
  },
  {
   "cell_type": "markdown",
   "metadata": {},
   "source": [
    "# Data Exploration: Exploring the Dataset\n",
    "\n",
    "To explore the data before preprocessing, we will go through the following exploration steps:\n",
    "\n",
    "1. Load the data to a pandas df\n",
    "2. Understand the structure, using mehods like info(), describe(), etc.\n",
    "3. Check for missing values\n",
    "4. Check the balance of the classes\n",
    "5. Visualize the data"
   ]
  },
  {
   "cell_type": "code",
   "execution_count": 113,
   "metadata": {},
   "outputs": [
    {
     "name": "stdout",
     "output_type": "stream",
     "text": [
      "<class 'pandas.core.frame.DataFrame'>\n",
      "RangeIndex: 50000 entries, 0 to 49999\n",
      "Data columns (total 2 columns):\n",
      " #   Column     Non-Null Count  Dtype \n",
      "---  ------     --------------  ----- \n",
      " 0   review     50000 non-null  object\n",
      " 1   sentiment  50000 non-null  object\n",
      "dtypes: object(2)\n",
      "memory usage: 781.4+ KB\n",
      "None\n",
      "\n",
      "Description:\n",
      "                                                    review sentiment\n",
      "count                                               50000     50000\n",
      "unique                                              49582         2\n",
      "top     Loved today's show!!! It was a variety and not...  positive\n",
      "freq                                                    5     25000\n",
      "\n",
      "First 5 rows:\n",
      "                                               review sentiment\n",
      "0  One of the other reviewers has mentioned that ...  positive\n",
      "1  A wonderful little production. <br /><br />The...  positive\n",
      "2  I thought this was a wonderful way to spend ti...  positive\n",
      "3  Basically there's a family where a little boy ...  negative\n",
      "4  Petter Mattei's \"Love in the Time of Money\" is...  positive\n",
      "\n",
      "Missing Values:\n",
      " review       0\n",
      "sentiment    0\n",
      "dtype: int64\n",
      "\n",
      "Sentiment Value Counts:\n",
      " sentiment\n",
      "positive    25000\n",
      "negative    25000\n",
      "Name: count, dtype: int64\n"
     ]
    },
    {
     "data": {
      "image/png": "[encoded data removed]",
      "text/plain": [
       "<Figure size 640x480 with 1 Axes>"
      ]
     },
     "metadata": {},
     "output_type": "display_data"
    }
   ],
   "source": [
    "import pandas as pd \n",
    "import matplotlib.pyplot as plt \n",
    "\n",
    "# Load the data\n",
    "df = pd.read_csv('IMDB Dataset.csv')\n",
    "\n",
    "# Understand the structure of the data\n",
    "print(df.info())\n",
    "print('\\nDescription:\\n', df.describe())\n",
    "print('\\nFirst 5 rows:\\n', df.head())\n",
    "\n",
    "# Check for missing values\n",
    "print('\\nMissing Values:\\n', df.isnull().sum())\n",
    "\n",
    "# Check the balance of the data\n",
    "print('\\nSentiment Value Counts:\\n', df['sentiment'].value_counts())\n",
    "\n",
    "# Visualize the data\n",
    "df['sentiment'].value_counts().plot(kind='bar')\n",
    "plt.show()"
   ]
  },
  {
   "cell_type": "markdown",
   "metadata": {},
   "source": [
    "From the above analysis, there are a few key takeaways:\n",
    "\n",
    "1. Size: Dataset contains 50,000 entries, each with a review an a sentiment\n",
    "2. No missing values: Both columns contain equal number of values -- so no need to handle any missing entries\n",
    "3. Unique reviews: There are 49,582 unique reviews, meaning some of the reviews are duplicates but most are unique\n",
    "4. Balance: The dataset is perfectly balanced, with 25,000 positive and 25,000 negative reviews\n",
    "\n",
    "In summary, the dataset seems to be clean and well balanced. Next, we will move onto preprocessing the text data for model training."
   ]
  },
  {
   "cell_type": "markdown",
   "metadata": {},
   "source": [
    "# Data Preproccessing"
   ]
  },
  {
   "cell_type": "markdown",
   "metadata": {},
   "source": [
    "Here are some common preproccessing steps, feel free to add more preproccessing steps if needed: \n",
    "1. check missing values. \n",
    "2. remove noise and special characters, such as \"\\[[^]]*\\]\", etc.\n",
    "3. transform all words to lower case, \n",
    "4. word tokenization  \n",
    "5. stop words removing and stemming,\n",
    "6. divide the dataset into train set (75%) and test set (25%) with random sampling\n",
    "\n",
    " ......\n",
    "\n",
    "**Hint:**\n",
    "* You may need TfidVectorizer class to convert a collection of raw documents to a matrix of TF-IDF features: https://scikit-learn.org/stable/modules/generated/sklearn.feature_extraction.text.TfidfVectorizer.html, \n",
    "* You are also welcome to use the Python Natural Language Processing Toolkit (www.nltk.org).\n",
    " \n"
   ]
  },
  {
   "cell_type": "code",
   "execution_count": 61,
   "metadata": {},
   "outputs": [
    {
     "name": "stderr",
     "output_type": "stream",
     "text": [
      "[nltk_data] Error loading punkt: <urlopen error [Errno 11001]\n",
      "[nltk_data]     getaddrinfo failed>\n",
      "[nltk_data] Error loading stopwords: <urlopen error [Errno 11001]\n",
      "[nltk_data]     getaddrinfo failed>\n"
     ]
    },
    {
     "data": {
      "text/plain": [
       "False"
      ]
     },
     "execution_count": 61,
     "metadata": {},
     "output_type": "execute_result"
    }
   ],
   "source": [
    "import nltk\n",
    "from nltk.corpus import stopwords\n",
    "from nltk.stem import PorterStemmer\n",
    "from nltk.tokenize import word_tokenize\n",
    "from sklearn.feature_extraction.text import TfidfVectorizer\n",
    "from sklearn.model_selection import train_test_split\n",
    "from bs4 import BeautifulSoup\n",
    "import re\n",
    "\n",
    "# Download stopwords\n",
    "nltk.download('punkt')\n",
    "nltk.download('stopwords')"
   ]
  },
  {
   "cell_type": "markdown",
   "metadata": {},
   "source": [
    "After importing the necessary modules, we will now begin preprocessing our data for feature extraction. For stemming, we will use PorterStemmer from the NLTK package."
   ]
  },
  {
   "cell_type": "code",
   "execution_count": 114,
   "metadata": {},
   "outputs": [
    {
     "name": "stderr",
     "output_type": "stream",
     "text": [
      "C:\\Users\\owenc\\AppData\\Local\\Temp\\ipykernel_22292\\2316146534.py:9: MarkupResemblesLocatorWarning: The input looks more like a filename than markup. You may want to open this file and pass the filehandle into Beautiful Soup.\n",
      "  text = BeautifulSoup(text, \"html.parser\").get_text()\n"
     ]
    },
    {
     "data": {
      "text/html": [
       "<div>\n",
       "<style scoped>\n",
       "    .dataframe tbody tr th:only-of-type {\n",
       "        vertical-align: middle;\n",
       "    }\n",
       "\n",
       "    .dataframe tbody tr th {\n",
       "        vertical-align: top;\n",
       "    }\n",
       "\n",
       "    .dataframe thead th {\n",
       "        text-align: right;\n",
       "    }\n",
       "</style>\n",
       "<table border=\"1\" class=\"dataframe\">\n",
       "  <thead>\n",
       "    <tr style=\"text-align: right;\">\n",
       "      <th></th>\n",
       "      <th>review</th>\n",
       "      <th>sentiment</th>\n",
       "    </tr>\n",
       "  </thead>\n",
       "  <tbody>\n",
       "    <tr>\n",
       "      <th>0</th>\n",
       "      <td>one review mention watch 1 oz episod 'll hook ...</td>\n",
       "      <td>positive</td>\n",
       "    </tr>\n",
       "    <tr>\n",
       "      <th>1</th>\n",
       "      <td>wonder littl product . film techniqu unassumin...</td>\n",
       "      <td>positive</td>\n",
       "    </tr>\n",
       "    <tr>\n",
       "      <th>2</th>\n",
       "      <td>thought wonder way spend time hot summer weeke...</td>\n",
       "      <td>positive</td>\n",
       "    </tr>\n",
       "    <tr>\n",
       "      <th>3</th>\n",
       "      <td>basic 's famili littl boy ( jake ) think 's zo...</td>\n",
       "      <td>negative</td>\n",
       "    </tr>\n",
       "    <tr>\n",
       "      <th>4</th>\n",
       "      <td>petter mattei 's `` love time money '' visual ...</td>\n",
       "      <td>positive</td>\n",
       "    </tr>\n",
       "    <tr>\n",
       "      <th>...</th>\n",
       "      <td>...</td>\n",
       "      <td>...</td>\n",
       "    </tr>\n",
       "    <tr>\n",
       "      <th>49995</th>\n",
       "      <td>thought movi right good job . n't creativ orig...</td>\n",
       "      <td>positive</td>\n",
       "    </tr>\n",
       "    <tr>\n",
       "      <th>49996</th>\n",
       "      <td>bad plot , bad dialogu , bad act , idiot direc...</td>\n",
       "      <td>negative</td>\n",
       "    </tr>\n",
       "    <tr>\n",
       "      <th>49997</th>\n",
       "      <td>cathol taught parochi elementari school nun , ...</td>\n",
       "      <td>negative</td>\n",
       "    </tr>\n",
       "    <tr>\n",
       "      <th>49998</th>\n",
       "      <td>'m go disagre previou comment side maltin one ...</td>\n",
       "      <td>negative</td>\n",
       "    </tr>\n",
       "    <tr>\n",
       "      <th>49999</th>\n",
       "      <td>one expect star trek movi high art , fan expec...</td>\n",
       "      <td>negative</td>\n",
       "    </tr>\n",
       "  </tbody>\n",
       "</table>\n",
       "<p>50000 rows × 2 columns</p>\n",
       "</div>"
      ],
      "text/plain": [
       "                                                  review sentiment\n",
       "0      one review mention watch 1 oz episod 'll hook ...  positive\n",
       "1      wonder littl product . film techniqu unassumin...  positive\n",
       "2      thought wonder way spend time hot summer weeke...  positive\n",
       "3      basic 's famili littl boy ( jake ) think 's zo...  negative\n",
       "4      petter mattei 's `` love time money '' visual ...  positive\n",
       "...                                                  ...       ...\n",
       "49995  thought movi right good job . n't creativ orig...  positive\n",
       "49996  bad plot , bad dialogu , bad act , idiot direc...  negative\n",
       "49997  cathol taught parochi elementari school nun , ...  negative\n",
       "49998  'm go disagre previou comment side maltin one ...  negative\n",
       "49999  one expect star trek movi high art , fan expec...  negative\n",
       "\n",
       "[50000 rows x 2 columns]"
      ]
     },
     "execution_count": 114,
     "metadata": {},
     "output_type": "execute_result"
    }
   ],
   "source": [
    "stop_words = set(stopwords.words('english'))\n",
    "\n",
    "# Initialize stemmer\n",
    "stemmer = PorterStemmer()\n",
    "\n",
    "# Function to preprocess text\n",
    "def preprocess_text(text):\n",
    "    # Remove HTML tags\n",
    "    text = BeautifulSoup(text, \"html.parser\").get_text()\n",
    "    # Removing noise and special chars\n",
    "    text = re.sub(\"\\[[^]]*\\]\", \"\", text)\n",
    "    # Lowercasing\n",
    "    text = text.lower()\n",
    "    # Tokenization\n",
    "    text = word_tokenize(text)\n",
    "    # Stemming/stop word removal\n",
    "    text = [stemmer.stem(word) for word in text if word not in stop_words]\n",
    "\n",
    "    return ' '.join(text)\n",
    "\n",
    "# Apply the function to the review column of our df\n",
    "df['review'] = df['review'].apply(preprocess_text)\n",
    "df"
   ]
  },
  {
   "cell_type": "markdown",
   "metadata": {},
   "source": [
    "Observing the above output to ensure proper preprocessing:\n",
    "- all text is lowercased\n",
    "- no apparent html tags, special characters\n",
    "- text appears to be stemmed\n",
    "\n",
    "From here, we will use TfidVectorizer to fit and transform the preprocessed reviews. This converts the text data into a matrix of TF-IDF features. This matrix reflects the importance of a specific word is to a document in a collection or corpus (search).\n",
    "\n",
    "Fitting the vectorizer on our review column means it is learning the vocabulary of the dataset. It is then transformed into a numerical vector which reflects the importance of a word in a particular document.\n",
    "\n",
    "The importance of using vectorization is that it converts text data, which is unstructured, into a structured form that can be used as input to a machine learning model. Machine learning algorithms work with numerical data, and vectorization methods convert text into numerical data while preserving the semantic relationship between words.\n",
    "\n",
    "After vectorization, the data is split into training and test sets."
   ]
  },
  {
   "cell_type": "code",
   "execution_count": 115,
   "metadata": {},
   "outputs": [
    {
     "name": "stdout",
     "output_type": "stream",
     "text": [
      "Train set size:  37500\n",
      "Test set size:  12500\n"
     ]
    }
   ],
   "source": [
    "# Initialize TfidfVectorizer\n",
    "vectorizer = TfidfVectorizer()\n",
    "\n",
    "# Fit and transform the vectorizer\n",
    "X = vectorizer.fit_transform(df['review'])\n",
    "\n",
    "# Map the sentiment to 1 and 0 and set our target variable\n",
    "df['sentiment'] = df['sentiment'].map({'positive': 1, 'negative': 0})\n",
    "y = df['sentiment']\n",
    "\n",
    "# Split the data. 75% for training and 25% for testing\n",
    "X_train, X_test, y_train, y_test = train_test_split(X, y, test_size=0.25, random_state=42)\n",
    "\n",
    "print(\"Train set size: \", X_train.shape[0])\n",
    "print(\"Test set size: \", X_test.shape[0])"
   ]
  },
  {
   "cell_type": "markdown",
   "metadata": {},
   "source": [
    "**Rationale behind preprocessing steps:**\n",
    "\n",
    "    preprocess_text() function:\n",
    "\n",
    "We define a seperate preprocess_text() function which handles all of our text preprocessing steps. Some of these steps could have been passed as parameters when initializing our TfidfVectorizer -- however by defining a seperate funciton, we maintain more control over the process. For example, the vectorizer has built in options for lowercasing, tokenization, and some others, but it does not have the same stemming capabilities. Thus, we elect to handle all of our preprocessing steps in one function, including using PorterStemmer.\n",
    "\n",
    "\n",
    "    TfidfVectorizer() Initialization and Default Parameters:\n",
    "\n",
    "While TfidfVectorizer() has many built in init parameters, I've elected to use the default parameters for the following reason: Fine tuning would likely involve using grid search or cross validation to give us our optimal parameters. However, this is a computationally intensive process and would require seperate analysis for each of our ML models. For our sake, the default parameters will likely not harm our model performance enough to justify computing optimal parameters for each specific model. \n",
    "\n",
    "Now that we have our training and test sets, we can move on to model training.\n"
   ]
  },
  {
   "cell_type": "markdown",
   "metadata": {},
   "source": [
    "# Data Modelling\n",
    "\n",
    "* Please use the following models to classify the data:\n",
    "    * Logistic Regression\n",
    "    * LinearSVC\n",
    "    * KNeighborsClassifier\n",
    "    * Fully-connected layers, please try different number of hidden layers, different values of \"hidden_layer_sizes\" and \"activation\".\n",
    "    * CNN (please use different number of convolutional layers combined with different number of fully-connected layers, and compare the results).\n"
   ]
  },
  {
   "cell_type": "markdown",
   "metadata": {},
   "source": [
    "### Logistic Regression"
   ]
  },
  {
   "cell_type": "code",
   "execution_count": 124,
   "metadata": {},
   "outputs": [
    {
     "name": "stdout",
     "output_type": "stream",
     "text": [
      "              precision    recall  f1-score   support\n",
      "\n",
      "           0       0.90      0.88      0.89      6157\n",
      "           1       0.88      0.90      0.89      6343\n",
      "\n",
      "    accuracy                           0.89     12500\n",
      "   macro avg       0.89      0.89      0.89     12500\n",
      "weighted avg       0.89      0.89      0.89     12500\n",
      "\n"
     ]
    }
   ],
   "source": [
    "from sklearn.linear_model import LogisticRegression\n",
    "from sklearn.metrics import classification_report\n",
    "\n",
    "# Initialize the mode\n",
    "lr_model = LogisticRegression(random_state=42)\n",
    "\n",
    "# Fit the model\n",
    "lr_model.fit(X_train, y_train)\n",
    "\n",
    "# Make predictions on the test set\n",
    "y_pred = lr_model.predict(X_test)\n",
    "\n",
    "# Print the classification report\n",
    "print(classification_report(y_test, y_pred))"
   ]
  },
  {
   "cell_type": "markdown",
   "metadata": {},
   "source": [
    "### LinearSVC "
   ]
  },
  {
   "cell_type": "code",
   "execution_count": 120,
   "metadata": {},
   "outputs": [
    {
     "name": "stderr",
     "output_type": "stream",
     "text": [
      "c:\\Users\\owenc\\anaconda3\\lib\\site-packages\\sklearn\\svm\\_classes.py:32: FutureWarning: The default value of `dual` will change from `True` to `'auto'` in 1.5. Set the value of `dual` explicitly to suppress the warning.\n",
      "  warnings.warn(\n"
     ]
    },
    {
     "name": "stdout",
     "output_type": "stream",
     "text": [
      "              precision    recall  f1-score   support\n",
      "\n",
      "           0       0.89      0.88      0.89      6157\n",
      "           1       0.89      0.90      0.89      6343\n",
      "\n",
      "    accuracy                           0.89     12500\n",
      "   macro avg       0.89      0.89      0.89     12500\n",
      "weighted avg       0.89      0.89      0.89     12500\n",
      "\n"
     ]
    }
   ],
   "source": [
    "from sklearn.svm import LinearSVC\n",
    "\n",
    "# Initialize the model\n",
    "svc_model = LinearSVC(random_state=42)\n",
    "\n",
    "# Fit the model\n",
    "svc_model.fit(X_train, y_train)\n",
    "\n",
    "# Make predictions on the test set\n",
    "y_pred = svc_model.predict(X_test)\n",
    "\n",
    "# Print classification report\n",
    "print(classification_report(y_test, y_pred))"
   ]
  },
  {
   "cell_type": "markdown",
   "metadata": {},
   "source": [
    "### KNeighbors Classifer"
   ]
  },
  {
   "cell_type": "code",
   "execution_count": 93,
   "metadata": {},
   "outputs": [
    {
     "name": "stderr",
     "output_type": "stream",
     "text": [
      "c:\\Users\\owenc\\anaconda3\\lib\\site-packages\\joblib\\externals\\loky\\backend\\context.py:136: UserWarning: Could not find the number of physical cores for the following reason:\n",
      "found 0 physical cores < 1\n",
      "Returning the number of logical cores instead. You can silence this warning by setting LOKY_MAX_CPU_COUNT to the number of cores you want to use.\n",
      "  warnings.warn(\n",
      "  File \"c:\\Users\\owenc\\anaconda3\\lib\\site-packages\\joblib\\externals\\loky\\backend\\context.py\", line 282, in _count_physical_cores\n",
      "    raise ValueError(f\"found {cpu_count_physical} physical cores < 1\")\n"
     ]
    },
    {
     "name": "stdout",
     "output_type": "stream",
     "text": [
      "              precision    recall  f1-score   support\n",
      "\n",
      "           0       0.82      0.72      0.77      6157\n",
      "           1       0.76      0.85      0.80      6343\n",
      "\n",
      "    accuracy                           0.78     12500\n",
      "   macro avg       0.79      0.78      0.78     12500\n",
      "weighted avg       0.79      0.78      0.78     12500\n",
      "\n"
     ]
    }
   ],
   "source": [
    "from sklearn.neighbors import KNeighborsClassifier\n",
    "\n",
    "# Initialize the model using 5 nearest neighbors\n",
    "knn_model = KNeighborsClassifier(n_neighbors=5)\n",
    "\n",
    "# Fit the model\n",
    "knn_model.fit(X_train, y_train)\n",
    "\n",
    "# Make predictions on test set\n",
    "y_pred = knn_model.predict(X_test)\n",
    "\n",
    "# Print classification report\n",
    "print(classification_report(y_test, y_pred))"
   ]
  },
  {
   "cell_type": "code",
   "execution_count": 94,
   "metadata": {},
   "outputs": [
    {
     "name": "stdout",
     "output_type": "stream",
     "text": [
      "              precision    recall  f1-score   support\n",
      "\n",
      "           0       0.80      0.77      0.79      6157\n",
      "           1       0.79      0.81      0.80      6343\n",
      "\n",
      "    accuracy                           0.79     12500\n",
      "   macro avg       0.79      0.79      0.79     12500\n",
      "weighted avg       0.79      0.79      0.79     12500\n",
      "\n"
     ]
    }
   ],
   "source": [
    "# Initialize the model using 10 nearest neighbors\n",
    "knn_model = KNeighborsClassifier(n_neighbors=10)\n",
    "\n",
    "# Fit the model\n",
    "knn_model.fit(X_train, y_train)\n",
    "\n",
    "# Make predictions on test set\n",
    "y_pred = knn_model.predict(X_test)\n",
    "\n",
    "# Print classification report\n",
    "print(classification_report(y_test, y_pred))"
   ]
  },
  {
   "cell_type": "markdown",
   "metadata": {},
   "source": [
    "### Fully-Connected Layers\n",
    "\n",
    "To test out different initialization parameters, we will first use grid search to find the optimal parameters for our model.\n",
    "\n",
    "Grid search is a hyperparameter tuning technique to find the optimal parameters for a model. It involves defining a grid of hyperparameters and training a model on every combination of these hyperparameters. Each model is then evaluated on a validation set using cross validation. \n",
    "\n",
    "Grid search can be computationally intensive, so for our case we will first define our grid to be \n",
    "\n",
    "        {'hidden_layer_sizes': [(100,), (100, 50), (100, 50, 25)], 'activation': ['relu', 'tanh']}\n",
    "\n",
    "\n",
    "Giving us 3 * 2 = 6 combinations of our parameters. We would be able to test more parameters if we had access to greater computing power.\n",
    "\n",
    "Depending on how this performs, we may come back and test new parameters."
   ]
  },
  {
   "cell_type": "code",
   "execution_count": 5,
   "metadata": {},
   "outputs": [
    {
     "ename": "NameError",
     "evalue": "name 'grid_search' is not defined",
     "output_type": "error",
     "traceback": [
      "\u001b[1;31m---------------------------------------------------------------------------\u001b[0m",
      "\u001b[1;31mNameError\u001b[0m                                 Traceback (most recent call last)",
      "Cell \u001b[1;32mIn[5], line 17\u001b[0m\n\u001b[0;32m     14\u001b[0m mlp_grid_search\u001b[38;5;241m.\u001b[39mfit(X_train, y_train)\n\u001b[0;32m     16\u001b[0m \u001b[38;5;66;03m# Print best params and best score\u001b[39;00m\n\u001b[1;32m---> 17\u001b[0m \u001b[38;5;28mprint\u001b[39m(\u001b[43mgrid_search\u001b[49m\u001b[38;5;241m.\u001b[39mbest_params_)\n\u001b[0;32m     18\u001b[0m \u001b[38;5;28mprint\u001b[39m(grid_search\u001b[38;5;241m.\u001b[39mbest_score_)\n",
      "\u001b[1;31mNameError\u001b[0m: name 'grid_search' is not defined"
     ]
    }
   ],
   "source": [
    "from sklearn.neural_network import MLPClassifier\n",
    "from sklearn.model_selection import GridSearchCV\n",
    "\n",
    "# Define our parameter grid\n",
    "mlp_param_grid = {\n",
    "    'hidden_layer_sizes': [(100,), (100,50), (100,50,25)],\n",
    "    'activation': ['relu', 'tanh']\n",
    "}\n",
    "\n",
    "# Initialize grid search\n",
    "mlp_grid_search = GridSearchCV(MLPClassifier(random_state=42), mlp_param_grid, cv=3, n_jobs=-1)\n",
    "\n",
    "# Perform grid search\n",
    "mlp_grid_search.fit(X_train, y_train)"
   ]
  },
  {
   "cell_type": "markdown",
   "metadata": {},
   "source": [
    "*Note:* Ignore error, small typo when printing results"
   ]
  },
  {
   "cell_type": "code",
   "execution_count": 6,
   "metadata": {},
   "outputs": [
    {
     "name": "stdout",
     "output_type": "stream",
     "text": [
      "{'activation': 'relu', 'hidden_layer_sizes': (100, 50)}\n",
      "0.8732266666666666\n"
     ]
    }
   ],
   "source": [
    "# Print best params and best score\n",
    "print(mlp_grid_search.best_params_)\n",
    "print(mlp_grid_search.best_score_)"
   ]
  },
  {
   "cell_type": "code",
   "execution_count": 126,
   "metadata": {},
   "outputs": [
    {
     "name": "stdout",
     "output_type": "stream",
     "text": [
      "              precision    recall  f1-score   support\n",
      "\n",
      "           0       0.88      0.87      0.87      6157\n",
      "           1       0.87      0.88      0.88      6343\n",
      "\n",
      "    accuracy                           0.87     12500\n",
      "   macro avg       0.87      0.87      0.87     12500\n",
      "weighted avg       0.87      0.87      0.87     12500\n",
      "\n"
     ]
    }
   ],
   "source": [
    "mlp_model = mlp_grid_search.best_estimator_\n",
    "\n",
    "# Make predictions on test set\n",
    "y_pred = mlp_model.predict(X_test)\n",
    "\n",
    "# Print classification report\n",
    "print(classification_report(y_test, y_pred))"
   ]
  },
  {
   "cell_type": "markdown",
   "metadata": {},
   "source": [
    "### CNN\n",
    "\n",
    "To implement CNN, we'll use numpy, TensorFlow and Keras to test the model with different combinations of convolutional and fully connected layers.\n",
    "\n",
    "This will require some further data preprocessing steps to prepare it for a CNN model. Previously, we converted the raw text data to a matrix of TF-IDF features. This is suitable for the other models we trained, but will not work for CNN. The previous models treated each document as a \"bag of words\", but CNN considers sequence of the words as well.\n",
    "\n",
    "To preprocess our data, we will take the following steps:\n",
    "\n",
    "1. Tokenization: We will first tokenize our words and convert to numerical format. The parameter 'num_words' is set to 5000, meaning we are only concerned with the 5000 most frequent words in our document.\n",
    "2. Padding: After tokenization, each review will be converted to a sequence of integers. Neural networks require that each input is the same length, so we will ensure that each of our reviews are of the same length.\n",
    "3. Labels to Array: We will lastly convert our 'sentiment' labels to a numpy array since this is the required format for CNN."
   ]
  },
  {
   "cell_type": "code",
   "execution_count": 49,
   "metadata": {},
   "outputs": [],
   "source": [
    "from tensorflow.keras.preprocessing.text import Tokenizer\n",
    "from tensorflow.keras.preprocessing.sequence import pad_sequences\n",
    "\n",
    "# Initialize tokenizer with 5000 word vocab size\n",
    "tokenizer = Tokenizer(num_words=5000)\n",
    "tokenizer.fit_on_texts(df['review'])\n",
    "\n",
    "# Convert text to sequences\n",
    "sequences = tokenizer.texts_to_sequences(df['review'])\n",
    "\n",
    "# Pad sequences such that they all have the same length\n",
    "\n",
    "# max_length = max([len(sequence) for sequence in sequences])\n",
    "# **Adjust padding sequences as needed**\n",
    "X = pad_sequences(sequences, maxlen=500)\n",
    "\n",
    "# Convert sentiments to numpy array\n",
    "y = df['sentiment'].values\n",
    "\n",
    "# Split the data\n",
    "X_train, X_test, y_train, y_test = train_test_split(X, y, test_size=0.25, random_state=42)"
   ]
  },
  {
   "cell_type": "markdown",
   "metadata": {},
   "source": [
    "Now our data is ready to train a CNN for text classification. We want to test different combinations of convolutional and fully connected layers. To do so, we will define a function which takes number of layers as input and returns a compiled CNN model. This will allow us to test differnt combinations efficiently."
   ]
  },
  {
   "cell_type": "code",
   "execution_count": 28,
   "metadata": {},
   "outputs": [],
   "source": [
    "from tensorflow.keras.models import Sequential\n",
    "from tensorflow.keras.layers import Embedding, Conv1D, GlobalMaxPooling1D, Dense, Flatten\n",
    "\n",
    "def create_cnn_model(num_conv_layers, num_dense_layers, vocab_size=5000, embedding_dim=50, max_length=100):\n",
    "    # Initialize the mode\n",
    "    model = Sequential()\n",
    "    # Add embedding layer\n",
    "    model.add(Embedding(vocab_size, embedding_dim, input_length=max_length))\n",
    "\n",
    "    # Add convolutional layers using 128 filters of size 5 and relu activation\n",
    "    # This is a common starting point and may be fine tuned later\n",
    "    for _ in range(num_conv_layers):\n",
    "        model.add(Conv1D(128, 5, activation='relu'))\n",
    "\n",
    "    # Add global max pooling layer\n",
    "    model.add(GlobalMaxPooling1D())\n",
    "\n",
    "    # Add dense layers with 10 units and relu activation\n",
    "    for _ in range(num_dense_layers):\n",
    "        model.add(Dense(10, activation='relu'))\n",
    "\n",
    "    # Add output layer with 1 unit and sigmoid activation, so that output is between 0 and 1\n",
    "    model.add(Dense(1, activation='sigmoid'))\n",
    "\n",
    "    # Compile the model using adam optimizer and binary crossentropy loss\n",
    "    model.compile(optimizer='adam', loss='binary_crossentropy', metrics=['accuracy'])\n",
    "\n",
    "    return model\n"
   ]
  },
  {
   "cell_type": "code",
   "execution_count": 44,
   "metadata": {},
   "outputs": [
    {
     "name": "stdout",
     "output_type": "stream",
     "text": [
      "Epoch 1/8\n",
      "1172/1172 [==============================] - 82s 69ms/step - loss: 0.4217 - accuracy: 0.7831 - val_loss: 0.3083 - val_accuracy: 0.8665\n",
      "Epoch 2/8\n",
      "1172/1172 [==============================] - 87s 74ms/step - loss: 0.2521 - accuracy: 0.8983 - val_loss: 0.2807 - val_accuracy: 0.8828\n",
      "Epoch 3/8\n",
      "1172/1172 [==============================] - 87s 74ms/step - loss: 0.1749 - accuracy: 0.9352 - val_loss: 0.2952 - val_accuracy: 0.8832\n",
      "Epoch 4/8\n",
      "1172/1172 [==============================] - 88s 75ms/step - loss: 0.1100 - accuracy: 0.9625 - val_loss: 0.3547 - val_accuracy: 0.8772\n",
      "Epoch 5/8\n",
      "1172/1172 [==============================] - 93s 80ms/step - loss: 0.0668 - accuracy: 0.9789 - val_loss: 0.4452 - val_accuracy: 0.8698\n",
      "Epoch 6/8\n",
      "1172/1172 [==============================] - 91s 78ms/step - loss: 0.0476 - accuracy: 0.9842 - val_loss: 0.4821 - val_accuracy: 0.8740\n",
      "Epoch 7/8\n",
      "1172/1172 [==============================] - 94s 80ms/step - loss: 0.0316 - accuracy: 0.9905 - val_loss: 0.6409 - val_accuracy: 0.8546\n",
      "Epoch 8/8\n",
      "1172/1172 [==============================] - 99s 84ms/step - loss: 0.0290 - accuracy: 0.9908 - val_loss: 0.5561 - val_accuracy: 0.8709\n",
      "391/391 [==============================] - 9s 24ms/step - loss: 0.5561 - accuracy: 0.8709\n",
      "CNN Model Accuracy: 87.09%\n"
     ]
    }
   ],
   "source": [
    "max_length = max([len(sequence) for sequence in sequences])\n",
    "\n",
    "cnn_model = create_cnn_model(2, 2, max_length=500)\n",
    "\n",
    "# Fit the model\n",
    "cnn_model.fit(X_train, y_train, epochs=8, validation_data=(X_test, y_test))\n",
    "\n",
    "# Evaluate the model\n",
    "loss, accuracy = cnn_model.evaluate(X_test, y_test)\n",
    "\n",
    "print(f'CNN Model Accuracy: {accuracy*100:.2f}%')\n"
   ]
  },
  {
   "cell_type": "markdown",
   "metadata": {},
   "source": [
    "Initial Model Tuning:\n",
    "\n",
    "Before testing different combinations of convolutional and full connected layers, we experiment with the max length parameter. This determines how long our sequences will be. For example, setting max_lenth at 100 will only take the first 100 words of a review, whereas setting max_length to the max length of any sequence in 'sequences' will include every word from every review. These were the results:\n",
    "\n",
    "Results for max length = 100 Sequences, 10 epochs:\n",
    "CNN Model Accuracy: 85.34%\n",
    "\n",
    "Results for max length = 200, 10 epochs:\n",
    "CNN Model Accuracy: 87.23%\n",
    "\n",
    "Results for max length = 500, 8 epochs:\n",
    "CNN Model Accuracy: 87.09%\n",
    "\n",
    "Results for max length = 1128 (max length of sequence), 5 epochs:\n",
    "CNN Model Accuracy: 87.34%\n",
    "\n",
    "So, by increasing our max length, we aren't necessarily improving the accuracy. Using 200 words gives the model enough information about the review to evaluate its sentiment while saving computational cost.\n",
    "\n",
    "To test different numbers of layers, we'll use 200 sequences and 500 sequences. We will also introduce early stopping criteria such that a model will stop training if it does not show improvement for 2 consecutive epochs. This will save some computational cost. We'll use combinations of 1-3 convoluational/dense layers to train the models.\n"
   ]
  },
  {
   "cell_type": "code",
   "execution_count": null,
   "metadata": {},
   "outputs": [],
   "source": [
    "from tensorflow.keras.callbacks import EarlyStopping\n",
    "\n",
    "# Define early stopping criteria\n",
    "early_stop = EarlyStopping(monitor='val_loss', mode='min', verbose=1, patience=2)"
   ]
  },
  {
   "cell_type": "code",
   "execution_count": 48,
   "metadata": {},
   "outputs": [
    {
     "name": "stdout",
     "output_type": "stream",
     "text": [
      "Epoch 1/10\n",
      "1172/1172 [==============================] - 19s 15ms/step - loss: 0.3728 - accuracy: 0.8289 - val_loss: 0.2841 - val_accuracy: 0.8818\n",
      "Epoch 2/10\n",
      "1172/1172 [==============================] - 17s 14ms/step - loss: 0.2167 - accuracy: 0.9154 - val_loss: 0.2784 - val_accuracy: 0.8863\n",
      "Epoch 3/10\n",
      "1172/1172 [==============================] - 17s 15ms/step - loss: 0.1283 - accuracy: 0.9547 - val_loss: 0.3013 - val_accuracy: 0.8860\n",
      "Epoch 4/10\n",
      "1172/1172 [==============================] - 17s 15ms/step - loss: 0.0535 - accuracy: 0.9853 - val_loss: 0.3757 - val_accuracy: 0.8813\n",
      "Epoch 5/10\n",
      "1172/1172 [==============================] - 17s 15ms/step - loss: 0.0175 - accuracy: 0.9970 - val_loss: 0.4483 - val_accuracy: 0.8832\n",
      "Epoch 6/10\n",
      "1172/1172 [==============================] - 17s 15ms/step - loss: 0.0065 - accuracy: 0.9992 - val_loss: 0.5193 - val_accuracy: 0.8822\n",
      "Epoch 7/10\n",
      "1172/1172 [==============================] - 17s 15ms/step - loss: 0.0054 - accuracy: 0.9986 - val_loss: 0.6095 - val_accuracy: 0.8822\n",
      "Epoch 8/10\n",
      "1172/1172 [==============================] - 17s 15ms/step - loss: 0.0209 - accuracy: 0.9926 - val_loss: 0.6617 - val_accuracy: 0.8778\n",
      "Epoch 9/10\n",
      "1172/1172 [==============================] - 18s 15ms/step - loss: 0.0105 - accuracy: 0.9962 - val_loss: 0.6936 - val_accuracy: 0.8810\n",
      "Epoch 10/10\n",
      "1172/1172 [==============================] - 17s 15ms/step - loss: 0.0040 - accuracy: 0.9988 - val_loss: 0.7370 - val_accuracy: 0.8798\n",
      "391/391 [==============================] - 2s 5ms/step - loss: 0.7370 - accuracy: 0.8798\n",
      "CNN Model with 1 conv layers and 1 dense layers Accuracy: 87.98%\n",
      "Epoch 1/10\n",
      "1172/1172 [==============================] - 19s 15ms/step - loss: 0.3692 - accuracy: 0.8321 - val_loss: 0.2736 - val_accuracy: 0.8860\n",
      "Epoch 2/10\n",
      "1172/1172 [==============================] - 17s 15ms/step - loss: 0.2088 - accuracy: 0.9190 - val_loss: 0.2891 - val_accuracy: 0.8825\n",
      "Epoch 3/10\n",
      "1172/1172 [==============================] - 17s 14ms/step - loss: 0.1130 - accuracy: 0.9611 - val_loss: 0.3357 - val_accuracy: 0.8777\n",
      "Epoch 4/10\n",
      "1172/1172 [==============================] - 17s 14ms/step - loss: 0.0414 - accuracy: 0.9888 - val_loss: 0.4312 - val_accuracy: 0.8825\n",
      "Epoch 5/10\n",
      "1172/1172 [==============================] - 19s 16ms/step - loss: 0.0196 - accuracy: 0.9956 - val_loss: 0.4878 - val_accuracy: 0.8754\n",
      "Epoch 6/10\n",
      "1172/1172 [==============================] - 18s 15ms/step - loss: 0.0185 - accuracy: 0.9940 - val_loss: 0.5398 - val_accuracy: 0.8769\n",
      "Epoch 7/10\n",
      "1172/1172 [==============================] - 18s 16ms/step - loss: 0.0214 - accuracy: 0.9922 - val_loss: 0.5969 - val_accuracy: 0.8794\n",
      "Epoch 8/10\n",
      "1172/1172 [==============================] - 19s 17ms/step - loss: 0.0115 - accuracy: 0.9959 - val_loss: 0.6664 - val_accuracy: 0.8794\n",
      "Epoch 9/10\n",
      "1172/1172 [==============================] - 18s 15ms/step - loss: 0.0100 - accuracy: 0.9967 - val_loss: 0.6874 - val_accuracy: 0.8781\n",
      "Epoch 10/10\n",
      "1172/1172 [==============================] - 18s 16ms/step - loss: 0.0137 - accuracy: 0.9951 - val_loss: 0.6647 - val_accuracy: 0.8793\n",
      "391/391 [==============================] - 2s 5ms/step - loss: 0.6647 - accuracy: 0.8793\n",
      "CNN Model with 1 conv layers and 2 dense layers Accuracy: 87.93%\n",
      "Epoch 1/10\n",
      "1172/1172 [==============================] - 19s 16ms/step - loss: 0.3896 - accuracy: 0.8078 - val_loss: 0.2847 - val_accuracy: 0.8791\n",
      "Epoch 2/10\n",
      "1172/1172 [==============================] - 17s 15ms/step - loss: 0.2203 - accuracy: 0.9133 - val_loss: 0.2694 - val_accuracy: 0.8894\n",
      "Epoch 3/10\n",
      "1172/1172 [==============================] - 17s 14ms/step - loss: 0.1332 - accuracy: 0.9545 - val_loss: 0.3273 - val_accuracy: 0.8799\n",
      "Epoch 4/10\n",
      "1172/1172 [==============================] - 17s 15ms/step - loss: 0.0593 - accuracy: 0.9833 - val_loss: 0.3825 - val_accuracy: 0.8814\n",
      "Epoch 5/10\n",
      "1172/1172 [==============================] - 18s 15ms/step - loss: 0.0298 - accuracy: 0.9930 - val_loss: 0.4546 - val_accuracy: 0.8784\n",
      "Epoch 6/10\n",
      "1172/1172 [==============================] - 17s 15ms/step - loss: 0.0260 - accuracy: 0.9928 - val_loss: 0.4790 - val_accuracy: 0.8810\n",
      "Epoch 7/10\n",
      "1172/1172 [==============================] - 18s 15ms/step - loss: 0.0270 - accuracy: 0.9921 - val_loss: 0.5497 - val_accuracy: 0.8767\n",
      "Epoch 8/10\n",
      "1172/1172 [==============================] - 18s 15ms/step - loss: 0.0213 - accuracy: 0.9938 - val_loss: 0.5636 - val_accuracy: 0.8762\n",
      "Epoch 9/10\n",
      "1172/1172 [==============================] - 17s 15ms/step - loss: 0.0157 - accuracy: 0.9954 - val_loss: 0.6164 - val_accuracy: 0.8765\n",
      "Epoch 10/10\n",
      "1172/1172 [==============================] - 18s 16ms/step - loss: 0.0165 - accuracy: 0.9949 - val_loss: 0.7334 - val_accuracy: 0.8750\n",
      "391/391 [==============================] - 2s 5ms/step - loss: 0.7334 - accuracy: 0.8750\n",
      "CNN Model with 1 conv layers and 3 dense layers Accuracy: 87.50%\n",
      "Epoch 1/10\n",
      "1172/1172 [==============================] - 39s 33ms/step - loss: 0.3784 - accuracy: 0.8241 - val_loss: 0.2836 - val_accuracy: 0.8813\n",
      "Epoch 2/10\n",
      "1172/1172 [==============================] - 38s 32ms/step - loss: 0.2386 - accuracy: 0.9029 - val_loss: 0.2837 - val_accuracy: 0.8819\n",
      "Epoch 3/10\n",
      "1172/1172 [==============================] - 38s 33ms/step - loss: 0.1570 - accuracy: 0.9408 - val_loss: 0.3136 - val_accuracy: 0.8770\n",
      "Epoch 4/10\n",
      "1172/1172 [==============================] - 38s 33ms/step - loss: 0.0816 - accuracy: 0.9728 - val_loss: 0.3991 - val_accuracy: 0.8714\n",
      "Epoch 5/10\n",
      "1172/1172 [==============================] - 38s 32ms/step - loss: 0.0453 - accuracy: 0.9857 - val_loss: 0.5314 - val_accuracy: 0.8672\n",
      "Epoch 6/10\n",
      "1172/1172 [==============================] - 38s 32ms/step - loss: 0.0325 - accuracy: 0.9891 - val_loss: 0.5409 - val_accuracy: 0.8713\n",
      "Epoch 7/10\n",
      "1172/1172 [==============================] - 44s 37ms/step - loss: 0.0247 - accuracy: 0.9915 - val_loss: 0.7284 - val_accuracy: 0.8556\n",
      "Epoch 8/10\n",
      "1172/1172 [==============================] - 41s 35ms/step - loss: 0.0236 - accuracy: 0.9915 - val_loss: 0.6449 - val_accuracy: 0.8686\n",
      "Epoch 9/10\n",
      "1172/1172 [==============================] - 41s 35ms/step - loss: 0.0223 - accuracy: 0.9920 - val_loss: 0.7437 - val_accuracy: 0.8604\n",
      "Epoch 10/10\n",
      "1172/1172 [==============================] - 38s 32ms/step - loss: 0.0161 - accuracy: 0.9947 - val_loss: 0.7237 - val_accuracy: 0.8693\n",
      "391/391 [==============================] - 4s 10ms/step - loss: 0.7237 - accuracy: 0.8693\n",
      "CNN Model with 2 conv layers and 1 dense layers Accuracy: 86.93%\n",
      "Epoch 1/10\n",
      "1172/1172 [==============================] - 40s 33ms/step - loss: 0.3876 - accuracy: 0.8167 - val_loss: 0.2998 - val_accuracy: 0.8730\n",
      "Epoch 2/10\n",
      "1172/1172 [==============================] - 38s 32ms/step - loss: 0.2402 - accuracy: 0.9027 - val_loss: 0.3100 - val_accuracy: 0.8762\n",
      "Epoch 3/10\n",
      "1172/1172 [==============================] - 38s 32ms/step - loss: 0.1620 - accuracy: 0.9379 - val_loss: 0.3224 - val_accuracy: 0.8775\n",
      "Epoch 4/10\n",
      "1172/1172 [==============================] - 42s 36ms/step - loss: 0.0936 - accuracy: 0.9681 - val_loss: 0.3675 - val_accuracy: 0.8706\n",
      "Epoch 5/10\n",
      "1172/1172 [==============================] - 40s 34ms/step - loss: 0.0515 - accuracy: 0.9846 - val_loss: 0.5074 - val_accuracy: 0.8686\n",
      "Epoch 6/10\n",
      "1172/1172 [==============================] - 40s 34ms/step - loss: 0.0380 - accuracy: 0.9879 - val_loss: 0.5608 - val_accuracy: 0.8698\n",
      "Epoch 7/10\n",
      "1172/1172 [==============================] - 41s 35ms/step - loss: 0.0304 - accuracy: 0.9904 - val_loss: 0.5782 - val_accuracy: 0.8654\n",
      "Epoch 8/10\n",
      "1172/1172 [==============================] - 42s 36ms/step - loss: 0.0258 - accuracy: 0.9915 - val_loss: 0.6173 - val_accuracy: 0.8712\n",
      "Epoch 9/10\n",
      "1172/1172 [==============================] - 40s 34ms/step - loss: 0.0209 - accuracy: 0.9927 - val_loss: 0.5965 - val_accuracy: 0.8714\n",
      "Epoch 10/10\n",
      "1172/1172 [==============================] - 41s 35ms/step - loss: 0.0189 - accuracy: 0.9933 - val_loss: 0.6929 - val_accuracy: 0.8690\n",
      "391/391 [==============================] - 5s 13ms/step - loss: 0.6929 - accuracy: 0.8690\n",
      "CNN Model with 2 conv layers and 2 dense layers Accuracy: 86.90%\n",
      "Epoch 1/10\n",
      "1172/1172 [==============================] - 49s 40ms/step - loss: 0.3951 - accuracy: 0.8107 - val_loss: 0.3197 - val_accuracy: 0.8629\n",
      "Epoch 2/10\n",
      "1172/1172 [==============================] - 47s 40ms/step - loss: 0.2478 - accuracy: 0.9007 - val_loss: 0.2955 - val_accuracy: 0.8741\n",
      "Epoch 3/10\n",
      "1172/1172 [==============================] - 46s 39ms/step - loss: 0.1757 - accuracy: 0.9347 - val_loss: 0.3108 - val_accuracy: 0.8778\n",
      "Epoch 4/10\n",
      "1172/1172 [==============================] - 45s 39ms/step - loss: 0.1088 - accuracy: 0.9636 - val_loss: 0.3472 - val_accuracy: 0.8712\n",
      "Epoch 5/10\n",
      "1172/1172 [==============================] - 45s 38ms/step - loss: 0.0635 - accuracy: 0.9797 - val_loss: 0.4734 - val_accuracy: 0.8701\n",
      "Epoch 6/10\n",
      "1172/1172 [==============================] - 40s 34ms/step - loss: 0.0446 - accuracy: 0.9860 - val_loss: 0.4638 - val_accuracy: 0.8695\n",
      "Epoch 7/10\n",
      "1172/1172 [==============================] - 40s 34ms/step - loss: 0.0339 - accuracy: 0.9888 - val_loss: 0.5450 - val_accuracy: 0.8640\n",
      "Epoch 8/10\n",
      "1172/1172 [==============================] - 46s 40ms/step - loss: 0.0264 - accuracy: 0.9910 - val_loss: 0.6631 - val_accuracy: 0.8660\n",
      "Epoch 9/10\n",
      "1172/1172 [==============================] - 44s 38ms/step - loss: 0.0246 - accuracy: 0.9909 - val_loss: 0.5967 - val_accuracy: 0.8724\n",
      "Epoch 10/10\n",
      "1172/1172 [==============================] - 40s 34ms/step - loss: 0.0185 - accuracy: 0.9934 - val_loss: 0.6620 - val_accuracy: 0.8687\n",
      "391/391 [==============================] - 4s 10ms/step - loss: 0.6620 - accuracy: 0.8687\n",
      "CNN Model with 2 conv layers and 3 dense layers Accuracy: 86.87%\n",
      "Epoch 1/10\n",
      "1172/1172 [==============================] - 61s 51ms/step - loss: 0.3967 - accuracy: 0.8147 - val_loss: 0.3024 - val_accuracy: 0.8718\n",
      "Epoch 2/10\n",
      "1172/1172 [==============================] - 60s 51ms/step - loss: 0.2560 - accuracy: 0.8954 - val_loss: 0.2838 - val_accuracy: 0.8790\n",
      "Epoch 3/10\n",
      "1172/1172 [==============================] - 58s 50ms/step - loss: 0.1895 - accuracy: 0.9271 - val_loss: 0.3075 - val_accuracy: 0.8757\n",
      "Epoch 4/10\n",
      "1172/1172 [==============================] - 59s 50ms/step - loss: 0.1194 - accuracy: 0.9570 - val_loss: 0.3720 - val_accuracy: 0.8707\n",
      "Epoch 5/10\n",
      "1172/1172 [==============================] - 58s 50ms/step - loss: 0.0723 - accuracy: 0.9749 - val_loss: 0.4764 - val_accuracy: 0.8599\n",
      "Epoch 6/10\n",
      "1172/1172 [==============================] - 61s 52ms/step - loss: 0.0510 - accuracy: 0.9823 - val_loss: 0.6299 - val_accuracy: 0.8567\n",
      "Epoch 7/10\n",
      "1172/1172 [==============================] - 64s 55ms/step - loss: 0.0400 - accuracy: 0.9867 - val_loss: 0.5840 - val_accuracy: 0.8621\n",
      "Epoch 8/10\n",
      "1172/1172 [==============================] - 62s 53ms/step - loss: 0.0326 - accuracy: 0.9891 - val_loss: 0.6242 - val_accuracy: 0.8575\n",
      "Epoch 9/10\n",
      "1172/1172 [==============================] - 62s 53ms/step - loss: 0.0232 - accuracy: 0.9921 - val_loss: 0.7474 - val_accuracy: 0.8613\n",
      "Epoch 10/10\n",
      "1172/1172 [==============================] - 62s 53ms/step - loss: 0.0244 - accuracy: 0.9914 - val_loss: 0.6973 - val_accuracy: 0.8552\n",
      "391/391 [==============================] - 7s 17ms/step - loss: 0.6973 - accuracy: 0.8552\n",
      "CNN Model with 3 conv layers and 1 dense layers Accuracy: 85.52%\n",
      "Epoch 1/10\n",
      "1172/1172 [==============================] - 63s 53ms/step - loss: 0.4217 - accuracy: 0.7881 - val_loss: 0.3089 - val_accuracy: 0.8695\n",
      "Epoch 2/10\n",
      "1172/1172 [==============================] - 61s 52ms/step - loss: 0.2640 - accuracy: 0.8919 - val_loss: 0.2906 - val_accuracy: 0.8795\n",
      "Epoch 3/10\n",
      "1172/1172 [==============================] - 61s 52ms/step - loss: 0.1923 - accuracy: 0.9254 - val_loss: 0.3047 - val_accuracy: 0.8757\n",
      "Epoch 4/10\n",
      "1172/1172 [==============================] - 61s 52ms/step - loss: 0.1243 - accuracy: 0.9558 - val_loss: 0.3708 - val_accuracy: 0.8722\n",
      "Epoch 5/10\n",
      "1172/1172 [==============================] - 58s 50ms/step - loss: 0.0794 - accuracy: 0.9727 - val_loss: 0.4302 - val_accuracy: 0.8674\n",
      "Epoch 6/10\n",
      "1172/1172 [==============================] - 59s 51ms/step - loss: 0.0547 - accuracy: 0.9819 - val_loss: 0.4915 - val_accuracy: 0.8608\n",
      "Epoch 7/10\n",
      "1172/1172 [==============================] - 58s 49ms/step - loss: 0.0446 - accuracy: 0.9847 - val_loss: 0.5989 - val_accuracy: 0.8594\n",
      "Epoch 8/10\n",
      "1172/1172 [==============================] - 59s 50ms/step - loss: 0.0336 - accuracy: 0.9888 - val_loss: 0.6242 - val_accuracy: 0.8582\n",
      "Epoch 9/10\n",
      "1172/1172 [==============================] - 60s 51ms/step - loss: 0.0259 - accuracy: 0.9914 - val_loss: 0.6828 - val_accuracy: 0.8606\n",
      "Epoch 10/10\n",
      "1172/1172 [==============================] - 59s 50ms/step - loss: 0.0233 - accuracy: 0.9922 - val_loss: 0.7350 - val_accuracy: 0.8616\n",
      "391/391 [==============================] - 6s 15ms/step - loss: 0.7350 - accuracy: 0.8616\n",
      "CNN Model with 3 conv layers and 2 dense layers Accuracy: 86.16%\n",
      "Epoch 1/10\n",
      "1172/1172 [==============================] - 60s 50ms/step - loss: 0.4452 - accuracy: 0.7849 - val_loss: 0.3295 - val_accuracy: 0.8543\n",
      "Epoch 2/10\n",
      "1172/1172 [==============================] - 58s 50ms/step - loss: 0.2910 - accuracy: 0.8793 - val_loss: 0.3102 - val_accuracy: 0.8751\n",
      "Epoch 3/10\n",
      "1172/1172 [==============================] - 58s 50ms/step - loss: 0.2297 - accuracy: 0.9098 - val_loss: 0.3066 - val_accuracy: 0.8747\n",
      "Epoch 4/10\n",
      "1172/1172 [==============================] - 58s 49ms/step - loss: 0.1719 - accuracy: 0.9363 - val_loss: 0.3600 - val_accuracy: 0.8716\n",
      "Epoch 5/10\n",
      "1172/1172 [==============================] - 58s 49ms/step - loss: 0.1198 - accuracy: 0.9579 - val_loss: 0.3777 - val_accuracy: 0.8649\n",
      "Epoch 6/10\n",
      "1172/1172 [==============================] - 60s 52ms/step - loss: 0.0827 - accuracy: 0.9711 - val_loss: 0.4042 - val_accuracy: 0.8652\n",
      "Epoch 7/10\n",
      "1172/1172 [==============================] - 60s 51ms/step - loss: 0.0539 - accuracy: 0.9820 - val_loss: 0.6143 - val_accuracy: 0.8646\n",
      "Epoch 8/10\n",
      "1172/1172 [==============================] - 58s 50ms/step - loss: 0.0390 - accuracy: 0.9857 - val_loss: 0.6334 - val_accuracy: 0.8584\n",
      "Epoch 9/10\n",
      "1172/1172 [==============================] - 59s 50ms/step - loss: 0.0354 - accuracy: 0.9875 - val_loss: 0.6519 - val_accuracy: 0.8564\n",
      "Epoch 10/10\n",
      "1172/1172 [==============================] - 58s 50ms/step - loss: 0.0258 - accuracy: 0.9915 - val_loss: 0.6995 - val_accuracy: 0.8592\n",
      "391/391 [==============================] - 6s 15ms/step - loss: 0.6995 - accuracy: 0.8592\n",
      "CNN Model with 3 conv layers and 3 dense layers Accuracy: 85.92%\n"
     ]
    }
   ],
   "source": [
    "# Testing with 200 max length\n",
    "for num_conv_layers in range(1, 4):\n",
    "    for num_dense_layers in range(1, 4):\n",
    "        model = create_cnn_model(num_conv_layers, num_dense_layers, max_length=200)\n",
    "        model.fit(X_train, y_train, epochs=10, validation_data=(X_test, y_test), callbacks=[early_stop])\n",
    "        loss, accuracy = model.evaluate(X_test, y_test)\n",
    "        print(f'CNN Model with {num_conv_layers} conv layers and {num_dense_layers} dense layers Accuracy: {accuracy*100:.2f}%')"
   ]
  },
  {
   "cell_type": "markdown",
   "metadata": {},
   "source": [
    "Best Performance:\n",
    "\n",
    "CNN Model with 1 conv layers and 1 dense layers\n",
    "\n",
    "Accuracy: 87.98%"
   ]
  },
  {
   "cell_type": "code",
   "execution_count": 54,
   "metadata": {},
   "outputs": [
    {
     "name": "stdout",
     "output_type": "stream",
     "text": [
      "Epoch 1/10\n",
      "1172/1172 [==============================] - 39s 33ms/step - loss: 0.3661 - accuracy: 0.8344 - val_loss: 0.2731 - val_accuracy: 0.8860\n",
      "Epoch 2/10\n",
      "1172/1172 [==============================] - 41s 35ms/step - loss: 0.2103 - accuracy: 0.9176 - val_loss: 0.2651 - val_accuracy: 0.8925\n",
      "Epoch 3/10\n",
      "1172/1172 [==============================] - 42s 36ms/step - loss: 0.1143 - accuracy: 0.9609 - val_loss: 0.3068 - val_accuracy: 0.8868\n",
      "Epoch 4/10\n",
      "1172/1172 [==============================] - 43s 36ms/step - loss: 0.0425 - accuracy: 0.9899 - val_loss: 0.3799 - val_accuracy: 0.8851\n",
      "Epoch 4: early stopping\n",
      "391/391 [==============================] - 6s 16ms/step - loss: 0.3799 - accuracy: 0.8851\n",
      "CNN Model with 1 conv layers and 1 dense layers Accuracy: 88.51%\n",
      "Epoch 1/10\n",
      "1172/1172 [==============================] - 47s 37ms/step - loss: 0.3691 - accuracy: 0.8290 - val_loss: 0.2885 - val_accuracy: 0.8766\n",
      "Epoch 2/10\n",
      "1172/1172 [==============================] - 44s 38ms/step - loss: 0.2044 - accuracy: 0.9204 - val_loss: 0.2673 - val_accuracy: 0.8885\n",
      "Epoch 3/10\n",
      "1172/1172 [==============================] - 66s 57ms/step - loss: 0.1051 - accuracy: 0.9646 - val_loss: 0.3346 - val_accuracy: 0.8829\n",
      "Epoch 4/10\n",
      "1172/1172 [==============================] - 33s 28ms/step - loss: 0.0396 - accuracy: 0.9889 - val_loss: 0.4605 - val_accuracy: 0.8738\n",
      "Epoch 4: early stopping\n",
      "391/391 [==============================] - 4s 11ms/step - loss: 0.4605 - accuracy: 0.8738\n",
      "CNN Model with 1 conv layers and 2 dense layers Accuracy: 87.38%\n",
      "Epoch 1/10\n",
      "1172/1172 [==============================] - 37s 31ms/step - loss: 0.3820 - accuracy: 0.8229 - val_loss: 0.2680 - val_accuracy: 0.8878\n",
      "Epoch 2/10\n",
      "1172/1172 [==============================] - 37s 32ms/step - loss: 0.2018 - accuracy: 0.9218 - val_loss: 0.2643 - val_accuracy: 0.8926\n",
      "Epoch 3/10\n",
      "1172/1172 [==============================] - 37s 32ms/step - loss: 0.1012 - accuracy: 0.9662 - val_loss: 0.3166 - val_accuracy: 0.8850\n",
      "Epoch 4/10\n",
      "1172/1172 [==============================] - 44s 37ms/step - loss: 0.0414 - accuracy: 0.9882 - val_loss: 0.5825 - val_accuracy: 0.8646\n",
      "Epoch 4: early stopping\n",
      "391/391 [==============================] - 7s 17ms/step - loss: 0.5825 - accuracy: 0.8646\n",
      "CNN Model with 1 conv layers and 3 dense layers Accuracy: 86.46%\n",
      "Epoch 1/10\n",
      "1172/1172 [==============================] - 119s 98ms/step - loss: 0.3815 - accuracy: 0.8248 - val_loss: 0.2895 - val_accuracy: 0.8763\n",
      "Epoch 2/10\n",
      "1172/1172 [==============================] - 112s 95ms/step - loss: 0.2384 - accuracy: 0.9038 - val_loss: 0.2760 - val_accuracy: 0.8844\n",
      "Epoch 3/10\n",
      "1172/1172 [==============================] - 105s 89ms/step - loss: 0.1574 - accuracy: 0.9397 - val_loss: 0.3562 - val_accuracy: 0.8658\n",
      "Epoch 4/10\n",
      "1172/1172 [==============================] - 103s 88ms/step - loss: 0.0864 - accuracy: 0.9705 - val_loss: 0.3787 - val_accuracy: 0.8690\n",
      "Epoch 4: early stopping\n",
      "391/391 [==============================] - 18s 45ms/step - loss: 0.3787 - accuracy: 0.8690\n",
      "CNN Model with 2 conv layers and 1 dense layers Accuracy: 86.90%\n",
      "Epoch 1/10\n",
      "1172/1172 [==============================] - 104s 81ms/step - loss: 0.3986 - accuracy: 0.8065 - val_loss: 0.2920 - val_accuracy: 0.8774\n",
      "Epoch 2/10\n",
      "1172/1172 [==============================] - 90s 76ms/step - loss: 0.2452 - accuracy: 0.9019 - val_loss: 0.2851 - val_accuracy: 0.8791\n",
      "Epoch 3/10\n",
      "1172/1172 [==============================] - 90s 77ms/step - loss: 0.1699 - accuracy: 0.9366 - val_loss: 0.2942 - val_accuracy: 0.8857\n",
      "Epoch 4/10\n",
      "1172/1172 [==============================] - 101s 86ms/step - loss: 0.0995 - accuracy: 0.9654 - val_loss: 0.3593 - val_accuracy: 0.8768\n",
      "Epoch 4: early stopping\n",
      "391/391 [==============================] - 9s 24ms/step - loss: 0.3593 - accuracy: 0.8768\n",
      "CNN Model with 2 conv layers and 2 dense layers Accuracy: 87.68%\n",
      "Epoch 1/10\n",
      "1172/1172 [==============================] - 92s 77ms/step - loss: 0.4082 - accuracy: 0.8011 - val_loss: 0.3026 - val_accuracy: 0.8731\n",
      "Epoch 2/10\n",
      "1172/1172 [==============================] - 90s 77ms/step - loss: 0.2484 - accuracy: 0.8998 - val_loss: 0.2813 - val_accuracy: 0.8846\n",
      "Epoch 3/10\n",
      "1172/1172 [==============================] - 92s 79ms/step - loss: 0.1742 - accuracy: 0.9365 - val_loss: 0.3118 - val_accuracy: 0.8732\n",
      "Epoch 4/10\n",
      "1172/1172 [==============================] - 91s 78ms/step - loss: 0.1101 - accuracy: 0.9624 - val_loss: 0.3372 - val_accuracy: 0.8778\n",
      "Epoch 4: early stopping\n",
      "391/391 [==============================] - 9s 24ms/step - loss: 0.3372 - accuracy: 0.8778\n",
      "CNN Model with 2 conv layers and 3 dense layers Accuracy: 87.78%\n",
      "Epoch 1/10\n",
      "1172/1172 [==============================] - 138s 116ms/step - loss: 0.3979 - accuracy: 0.8139 - val_loss: 0.3058 - val_accuracy: 0.8690\n",
      "Epoch 2/10\n",
      "1172/1172 [==============================] - 139s 118ms/step - loss: 0.2595 - accuracy: 0.8959 - val_loss: 0.2839 - val_accuracy: 0.8845\n",
      "Epoch 3/10\n",
      "1172/1172 [==============================] - 153s 130ms/step - loss: 0.1944 - accuracy: 0.9259 - val_loss: 0.3090 - val_accuracy: 0.8813\n",
      "Epoch 4/10\n",
      "1172/1172 [==============================] - 237s 202ms/step - loss: 0.1295 - accuracy: 0.9524 - val_loss: 0.3531 - val_accuracy: 0.8723\n",
      "Epoch 4: early stopping\n",
      "391/391 [==============================] - 29s 73ms/step - loss: 0.3531 - accuracy: 0.8723\n",
      "CNN Model with 3 conv layers and 1 dense layers Accuracy: 87.23%\n",
      "Epoch 1/10\n",
      "1172/1172 [==============================] - 228s 191ms/step - loss: 0.4131 - accuracy: 0.7952 - val_loss: 0.2980 - val_accuracy: 0.8730\n",
      "Epoch 2/10\n",
      "1172/1172 [==============================] - 203s 173ms/step - loss: 0.2565 - accuracy: 0.8966 - val_loss: 0.2842 - val_accuracy: 0.8810\n",
      "Epoch 3/10\n",
      "1172/1172 [==============================] - 169s 144ms/step - loss: 0.1901 - accuracy: 0.9280 - val_loss: 0.3301 - val_accuracy: 0.8737\n",
      "Epoch 4/10\n",
      "1172/1172 [==============================] - 140s 120ms/step - loss: 0.1266 - accuracy: 0.9549 - val_loss: 0.3569 - val_accuracy: 0.8730\n",
      "Epoch 4: early stopping\n",
      "391/391 [==============================] - 14s 35ms/step - loss: 0.3569 - accuracy: 0.8730\n",
      "CNN Model with 3 conv layers and 2 dense layers Accuracy: 87.30%\n",
      "Epoch 1/10\n",
      "1172/1172 [==============================] - 139s 117ms/step - loss: 0.4432 - accuracy: 0.7942 - val_loss: 0.3269 - val_accuracy: 0.8582\n",
      "Epoch 2/10\n",
      "1172/1172 [==============================] - 154s 132ms/step - loss: 0.2812 - accuracy: 0.8875 - val_loss: 0.3171 - val_accuracy: 0.8734\n",
      "Epoch 3/10\n",
      "1172/1172 [==============================] - 74944s 64s/step - loss: 0.2161 - accuracy: 0.9174 - val_loss: 0.3518 - val_accuracy: 0.8677\n",
      "Epoch 4/10\n",
      "1172/1172 [==============================] - 229s 196ms/step - loss: 0.1597 - accuracy: 0.9431 - val_loss: 0.3419 - val_accuracy: 0.8675\n",
      "Epoch 4: early stopping\n",
      "391/391 [==============================] - 27s 70ms/step - loss: 0.3419 - accuracy: 0.8675\n",
      "CNN Model with 3 conv layers and 3 dense layers Accuracy: 86.75%\n"
     ]
    }
   ],
   "source": [
    "# Testing with 500 max length \n",
    "for num_conv_layers in range(1, 4):\n",
    "    for num_dense_layers in range(1, 4):\n",
    "        model = create_cnn_model(num_conv_layers, num_dense_layers, max_length=500)\n",
    "        model.fit(X_train, y_train, epochs=10, validation_data=(X_test, y_test), callbacks=[early_stop])\n",
    "        loss, accuracy = model.evaluate(X_test, y_test)\n",
    "        print(f'CNN Model with {num_conv_layers} conv layers and {num_dense_layers} dense layers Accuracy: {accuracy*100:.2f}%')"
   ]
  },
  {
   "cell_type": "markdown",
   "metadata": {},
   "source": [
    "Best performance:\n",
    "\n",
    "CNN Model with 1 conv layers and 1 dense layers \n",
    "\n",
    "Accuracy: 88.51%"
   ]
  },
  {
   "cell_type": "markdown",
   "metadata": {},
   "source": [
    "# Results: summarize and visualize the results discovered from the analysis\n",
    "\n",
    "Please use figures or tables to present the results.\n"
   ]
  },
  {
   "cell_type": "markdown",
   "metadata": {},
   "source": [
    "## Model Performance"
   ]
  },
  {
   "cell_type": "code",
   "execution_count": 110,
   "metadata": {},
   "outputs": [
    {
     "data": {
      "text/html": [
       "<div>\n",
       "<style scoped>\n",
       "    .dataframe tbody tr th:only-of-type {\n",
       "        vertical-align: middle;\n",
       "    }\n",
       "\n",
       "    .dataframe tbody tr th {\n",
       "        vertical-align: top;\n",
       "    }\n",
       "\n",
       "    .dataframe thead th {\n",
       "        text-align: right;\n",
       "    }\n",
       "</style>\n",
       "<table border=\"1\" class=\"dataframe\">\n",
       "  <thead>\n",
       "    <tr style=\"text-align: right;\">\n",
       "      <th></th>\n",
       "      <th>Model</th>\n",
       "      <th>Test Accuracy</th>\n",
       "    </tr>\n",
       "  </thead>\n",
       "  <tbody>\n",
       "    <tr>\n",
       "      <th>0</th>\n",
       "      <td>Logistic Regression</td>\n",
       "      <td>0.890</td>\n",
       "    </tr>\n",
       "    <tr>\n",
       "      <th>1</th>\n",
       "      <td>Linear SVC</td>\n",
       "      <td>0.890</td>\n",
       "    </tr>\n",
       "    <tr>\n",
       "      <th>6</th>\n",
       "      <td>CNN (500, 1, 1)</td>\n",
       "      <td>0.885</td>\n",
       "    </tr>\n",
       "    <tr>\n",
       "      <th>5</th>\n",
       "      <td>CNN (200, 1, 1)</td>\n",
       "      <td>0.880</td>\n",
       "    </tr>\n",
       "    <tr>\n",
       "      <th>4</th>\n",
       "      <td>MLP (100, 50)</td>\n",
       "      <td>0.870</td>\n",
       "    </tr>\n",
       "    <tr>\n",
       "      <th>3</th>\n",
       "      <td>KNN (10)</td>\n",
       "      <td>0.790</td>\n",
       "    </tr>\n",
       "    <tr>\n",
       "      <th>2</th>\n",
       "      <td>KNN (5)</td>\n",
       "      <td>0.780</td>\n",
       "    </tr>\n",
       "  </tbody>\n",
       "</table>\n",
       "</div>"
      ],
      "text/plain": [
       "                 Model  Test Accuracy\n",
       "0  Logistic Regression          0.890\n",
       "1           Linear SVC          0.890\n",
       "6      CNN (500, 1, 1)          0.885\n",
       "5      CNN (200, 1, 1)          0.880\n",
       "4        MLP (100, 50)          0.870\n",
       "3             KNN (10)          0.790\n",
       "2              KNN (5)          0.780"
      ]
     },
     "execution_count": 110,
     "metadata": {},
     "output_type": "execute_result"
    }
   ],
   "source": [
    "data = {\n",
    "    'Model': ['Logistic Regression', 'Linear SVC', 'KNN (5)', 'KNN (10)', 'MLP (100, 50)', 'CNN (200, 1, 1)', 'CNN (500, 1, 1)'],\n",
    "    'Test Accuracy': [0.89, 0.89, 0.78, 0.79, 0.87, 0.88, 0.885]\n",
    "}\n",
    "\n",
    "df = pd.DataFrame(data)\n",
    "\n",
    "# Sort the df by test accuracy\n",
    "df = df.sort_values(by='Test Accuracy', ascending=False)\n",
    "\n",
    "df"
   ]
  },
  {
   "cell_type": "markdown",
   "metadata": {},
   "source": [
    "## Visualization"
   ]
  },
  {
   "cell_type": "code",
   "execution_count": 111,
   "metadata": {},
   "outputs": [
    {
     "data": {
      "image/png": "[encoded data removed]",
      "text/plain": [
       "<Figure size 1000x600 with 1 Axes>"
      ]
     },
     "metadata": {},
     "output_type": "display_data"
    }
   ],
   "source": [
    "import matplotlib.pyplot as plt\n",
    "\n",
    "# Creating bar plot to visualize test accuracy\n",
    "plt.figure(figsize=(10,6))\n",
    "plt.bar(df['Model'], df['Test Accuracy'], color='skyblue')\n",
    "\n",
    "plt.xlabel('Model')\n",
    "plt.ylabel('Test Accuracy')\n",
    "\n",
    "plt.show()"
   ]
  },
  {
   "cell_type": "markdown",
   "metadata": {},
   "source": [
    "By analyzing the model accuracy df and bar plot, we can rank the models in descending order by:\n",
    "\n",
    "1. Log Regresstion\n",
    "2. Linear SVC\n",
    "3. CNN (500,1,1)\n",
    "4. CNN (200,1,1)\n",
    "5. MLP (100,50)\n",
    "6. KNN (10)\n",
    "7. KNN (5)\n",
    "\n",
    "The top 5 models all perform relatively well, then a dropoff showing the KNN models performing worst."
   ]
  },
  {
   "cell_type": "markdown",
   "metadata": {},
   "source": [
    "## User Testing"
   ]
  },
  {
   "cell_type": "markdown",
   "metadata": {},
   "source": [
    "Finally, to show the functionality of the program, a user is able to input a custom review to check the accuracy of the models. The input will be preprocessed and each model will predict the sentiment of the inputted review. \n",
    "\n",
    "We will not include the CNN model since it requires different processing than the other models. Furthermore, the optimal CNN model was not explicitally defined"
   ]
  },
  {
   "cell_type": "code",
   "execution_count": 144,
   "metadata": {},
   "outputs": [
    {
     "name": "stdout",
     "output_type": "stream",
     "text": [
      "Review: This was a great movie.\n",
      "Logistic Regression Prediction: [1]\n",
      "Linear SVC Prediction: [1]\n",
      "KNN Prediction: [1]\n",
      "MLP Prediction: [1]\n",
      "---------------------------------\n",
      "Review: This was a bad movie\n",
      "Logistic Regression Prediction: [0]\n",
      "Linear SVC Prediction: [0]\n",
      "KNN Prediction: [0]\n",
      "MLP Prediction: [0]\n",
      "---------------------------------\n",
      "Review: At first I hated this movie, but the ending made me love it!\n",
      "Logistic Regression Prediction: [1]\n",
      "Linear SVC Prediction: [1]\n",
      "KNN Prediction: [0]\n",
      "MLP Prediction: [1]\n",
      "---------------------------------\n"
     ]
    }
   ],
   "source": [
    "review = input(\"Enter a review. Type 'q' to exit: \")\n",
    "\n",
    "while review != 'q':\n",
    "    print(f'Review: {review}')\n",
    "\n",
    "    # Preprocess the review\n",
    "    review = preprocess_text(review)\n",
    "\n",
    "    # Convert the review into Tfidf form\n",
    "    review = vectorizer.transform([review])\n",
    "\n",
    "    # Make predictions for each model\n",
    "    lr_pred = lr_model.predict(review)\n",
    "    svc_pred = svc_model.predict(review)\n",
    "    knn_pred = knn_model.predict(review)\n",
    "    mlp_pred = mlp_model.predict(review)\n",
    "\n",
    "    # Print the predictions\n",
    "    print(f'Logistic Regression Prediction: {lr_pred}')\n",
    "    print(f'Linear SVC Prediction: {svc_pred}')\n",
    "    print(f'KNN Prediction: {knn_pred}')\n",
    "    print(f'MLP Prediction: {mlp_pred}')\n",
    "    print('---------------------------------')\n",
    "\n",
    "    review = input(\"Enter a review. Type 'q' to exit: \")\n"
   ]
  },
  {
   "cell_type": "markdown",
   "metadata": {},
   "source": [
    "Here, we can test different reviews and see how the models react. We see some shortcomings in the KNN model in the last prompt when the review contradicts itself, but each of the other models are still able to decipher the overall sentiment. \n",
    "\n",
    "For straightforward reviews, all models are able to accurately determine whether or not the review is positve or negative."
   ]
  },
  {
   "cell_type": "markdown",
   "metadata": {},
   "source": [
    "\n",
    "# Done\n",
    "\n",
    "All set! \n",
    "\n",
    "**What do you need to submit?**\n",
    "\n",
    "* **Notebook File**: Save this Jupyter notebook. Please make sure all the plotted tables and figures are in the notebook. \n",
    "\n",
    "* **PDF Report**: please prepare a report in the PDF form which should be at least 4 pages. The report should includes:\n",
    "\n",
    "  * Data description and exploration.\n",
    "\n",
    "  * Data preproccessing.\n",
    "\n",
    "  * Data modelling.\n",
    "\n",
    "  * What did you find in the data?\n",
    "\n",
    "  * (please include figures or tables in the report, but no source code)\n",
    "  \n",
    "Please compress all the files in a zipped file."
   ]
  },
  {
   "cell_type": "code",
   "execution_count": null,
   "metadata": {},
   "outputs": [],
   "source": []
  }
 ],
 "metadata": {
  "kernelspec": {
   "display_name": "Python 3 (ipykernel)",
   "language": "python",
   "name": "python3"
  },
  "language_info": {
   "codemirror_mode": {
    "name": "ipython",
    "version": 3
   },
   "file_extension": ".py",
   "mimetype": "text/x-python",
   "name": "python",
   "nbconvert_exporter": "python",
   "pygments_lexer": "ipython3",
   "version": "3.10.12"
  },
  "toc": {
   "base_numbering": 1,
   "nav_menu": {},
   "number_sections": true,
   "sideBar": true,
   "skip_h1_title": false,
   "title_cell": "Table of Contents",
   "title_sidebar": "Contents",
   "toc_cell": false,
   "toc_position": {},
   "toc_section_display": true,
   "toc_window_display": false
  }
 },
 "nbformat": 4,
 "nbformat_minor": 1
}
